{
 "cells": [
  {
   "cell_type": "markdown",
   "metadata": {},
   "source": [
    "### Homework Rakamin Trial Class - Mini Case<br>\n",
    "# Mengukur Performa Penjualan Ritel Online"
   ]
  },
  {
   "cell_type": "markdown",
   "metadata": {},
   "source": [
    "# Import Package"
   ]
  },
  {
   "cell_type": "code",
   "execution_count": 31,
   "metadata": {},
   "outputs": [],
   "source": [
    "import pandas as pd\n",
    "import numpy as np\n",
    "import seaborn as sns"
   ]
  },
  {
   "cell_type": "markdown",
   "metadata": {},
   "source": [
    "# Load Data"
   ]
  },
  {
   "cell_type": "code",
   "execution_count": 32,
   "metadata": {},
   "outputs": [
    {
     "data": {
      "text/html": [
       "<div>\n",
       "<style scoped>\n",
       "    .dataframe tbody tr th:only-of-type {\n",
       "        vertical-align: middle;\n",
       "    }\n",
       "\n",
       "    .dataframe tbody tr th {\n",
       "        vertical-align: top;\n",
       "    }\n",
       "\n",
       "    .dataframe thead th {\n",
       "        text-align: right;\n",
       "    }\n",
       "</style>\n",
       "<table border=\"1\" class=\"dataframe\">\n",
       "  <thead>\n",
       "    <tr style=\"text-align: right;\">\n",
       "      <th></th>\n",
       "      <th>Invoice</th>\n",
       "      <th>StockCode</th>\n",
       "      <th>Description</th>\n",
       "      <th>Quantity</th>\n",
       "      <th>InvoiceDate</th>\n",
       "      <th>Price</th>\n",
       "      <th>Customer ID</th>\n",
       "      <th>Country</th>\n",
       "    </tr>\n",
       "  </thead>\n",
       "  <tbody>\n",
       "    <tr>\n",
       "      <th>0</th>\n",
       "      <td>489434</td>\n",
       "      <td>85048</td>\n",
       "      <td>15CM CHRISTMAS GLASS BALL 20 LIGHTS</td>\n",
       "      <td>12</td>\n",
       "      <td>2009-12-01 07:45:00</td>\n",
       "      <td>6.95</td>\n",
       "      <td>13085.0</td>\n",
       "      <td>United Kingdom</td>\n",
       "    </tr>\n",
       "    <tr>\n",
       "      <th>1</th>\n",
       "      <td>489434</td>\n",
       "      <td>79323P</td>\n",
       "      <td>PINK CHERRY LIGHTS</td>\n",
       "      <td>12</td>\n",
       "      <td>2009-12-01 07:45:00</td>\n",
       "      <td>6.75</td>\n",
       "      <td>13085.0</td>\n",
       "      <td>United Kingdom</td>\n",
       "    </tr>\n",
       "    <tr>\n",
       "      <th>2</th>\n",
       "      <td>489434</td>\n",
       "      <td>79323W</td>\n",
       "      <td>WHITE CHERRY LIGHTS</td>\n",
       "      <td>12</td>\n",
       "      <td>2009-12-01 07:45:00</td>\n",
       "      <td>6.75</td>\n",
       "      <td>13085.0</td>\n",
       "      <td>United Kingdom</td>\n",
       "    </tr>\n",
       "    <tr>\n",
       "      <th>3</th>\n",
       "      <td>489434</td>\n",
       "      <td>22041</td>\n",
       "      <td>RECORD FRAME 7\" SINGLE SIZE</td>\n",
       "      <td>48</td>\n",
       "      <td>2009-12-01 07:45:00</td>\n",
       "      <td>2.10</td>\n",
       "      <td>13085.0</td>\n",
       "      <td>United Kingdom</td>\n",
       "    </tr>\n",
       "    <tr>\n",
       "      <th>4</th>\n",
       "      <td>489434</td>\n",
       "      <td>21232</td>\n",
       "      <td>STRAWBERRY CERAMIC TRINKET BOX</td>\n",
       "      <td>24</td>\n",
       "      <td>2009-12-01 07:45:00</td>\n",
       "      <td>1.25</td>\n",
       "      <td>13085.0</td>\n",
       "      <td>United Kingdom</td>\n",
       "    </tr>\n",
       "  </tbody>\n",
       "</table>\n",
       "</div>"
      ],
      "text/plain": [
       "  Invoice StockCode                          Description  Quantity  \\\n",
       "0  489434     85048  15CM CHRISTMAS GLASS BALL 20 LIGHTS        12   \n",
       "1  489434    79323P                   PINK CHERRY LIGHTS        12   \n",
       "2  489434    79323W                  WHITE CHERRY LIGHTS        12   \n",
       "3  489434     22041         RECORD FRAME 7\" SINGLE SIZE         48   \n",
       "4  489434     21232       STRAWBERRY CERAMIC TRINKET BOX        24   \n",
       "\n",
       "          InvoiceDate  Price  Customer ID         Country  \n",
       "0 2009-12-01 07:45:00   6.95      13085.0  United Kingdom  \n",
       "1 2009-12-01 07:45:00   6.75      13085.0  United Kingdom  \n",
       "2 2009-12-01 07:45:00   6.75      13085.0  United Kingdom  \n",
       "3 2009-12-01 07:45:00   2.10      13085.0  United Kingdom  \n",
       "4 2009-12-01 07:45:00   1.25      13085.0  United Kingdom  "
      ]
     },
     "execution_count": 32,
     "metadata": {},
     "output_type": "execute_result"
    }
   ],
   "source": [
    "df = pd.read_csv(\"dataset.csv\", parse_dates=['InvoiceDate'])\n",
    "df.head()"
   ]
  },
  {
   "cell_type": "markdown",
   "metadata": {},
   "source": [
    "# Section 1"
   ]
  },
  {
   "cell_type": "markdown",
   "metadata": {},
   "source": [
    "### Create New Feature: Year"
   ]
  },
  {
   "cell_type": "code",
   "execution_count": 33,
   "metadata": {},
   "outputs": [
    {
     "data": {
      "text/plain": [
       "Invoice                object\n",
       "StockCode              object\n",
       "Description            object\n",
       "Quantity                int64\n",
       "InvoiceDate    datetime64[ns]\n",
       "Price                 float64\n",
       "Customer ID           float64\n",
       "Country                object\n",
       "dtype: object"
      ]
     },
     "execution_count": 33,
     "metadata": {},
     "output_type": "execute_result"
    }
   ],
   "source": [
    "df.dtypes"
   ]
  },
  {
   "cell_type": "markdown",
   "metadata": {},
   "source": [
    "tipedata kolom InvoiceDate sudah menjadi tipedata datetime"
   ]
  },
  {
   "cell_type": "code",
   "execution_count": 34,
   "metadata": {},
   "outputs": [
    {
     "data": {
      "text/html": [
       "<div>\n",
       "<style scoped>\n",
       "    .dataframe tbody tr th:only-of-type {\n",
       "        vertical-align: middle;\n",
       "    }\n",
       "\n",
       "    .dataframe tbody tr th {\n",
       "        vertical-align: top;\n",
       "    }\n",
       "\n",
       "    .dataframe thead th {\n",
       "        text-align: right;\n",
       "    }\n",
       "</style>\n",
       "<table border=\"1\" class=\"dataframe\">\n",
       "  <thead>\n",
       "    <tr style=\"text-align: right;\">\n",
       "      <th></th>\n",
       "      <th>Invoice</th>\n",
       "      <th>StockCode</th>\n",
       "      <th>Description</th>\n",
       "      <th>Quantity</th>\n",
       "      <th>InvoiceDate</th>\n",
       "      <th>Price</th>\n",
       "      <th>Customer ID</th>\n",
       "      <th>Country</th>\n",
       "      <th>Year</th>\n",
       "    </tr>\n",
       "  </thead>\n",
       "  <tbody>\n",
       "    <tr>\n",
       "      <th>844804</th>\n",
       "      <td>564849</td>\n",
       "      <td>22179</td>\n",
       "      <td>SET 10 NIGHT OWL LIGHTS</td>\n",
       "      <td>2</td>\n",
       "      <td>2011-08-30 15:42:00</td>\n",
       "      <td>6.75</td>\n",
       "      <td>17675.0</td>\n",
       "      <td>United Kingdom</td>\n",
       "      <td>2011</td>\n",
       "    </tr>\n",
       "    <tr>\n",
       "      <th>68525</th>\n",
       "      <td>495415</td>\n",
       "      <td>20665</td>\n",
       "      <td>RED SPOTTY PURSE</td>\n",
       "      <td>6</td>\n",
       "      <td>2010-01-25 11:32:00</td>\n",
       "      <td>2.95</td>\n",
       "      <td>18199.0</td>\n",
       "      <td>United Kingdom</td>\n",
       "      <td>2010</td>\n",
       "    </tr>\n",
       "    <tr>\n",
       "      <th>999873</th>\n",
       "      <td>576840</td>\n",
       "      <td>23245</td>\n",
       "      <td>SET OF 3 REGENCY CAKE TINS</td>\n",
       "      <td>4</td>\n",
       "      <td>2011-11-16 15:23:00</td>\n",
       "      <td>10.79</td>\n",
       "      <td>NaN</td>\n",
       "      <td>United Kingdom</td>\n",
       "      <td>2011</td>\n",
       "    </tr>\n",
       "    <tr>\n",
       "      <th>774781</th>\n",
       "      <td>558902</td>\n",
       "      <td>21930</td>\n",
       "      <td>JUMBO STORAGE BAG SKULLS</td>\n",
       "      <td>10</td>\n",
       "      <td>2011-07-04 16:08:00</td>\n",
       "      <td>2.08</td>\n",
       "      <td>13001.0</td>\n",
       "      <td>United Kingdom</td>\n",
       "      <td>2011</td>\n",
       "    </tr>\n",
       "    <tr>\n",
       "      <th>790532</th>\n",
       "      <td>560209</td>\n",
       "      <td>23093</td>\n",
       "      <td>SMALL PARISIENNE HEART PHOTO FRAME</td>\n",
       "      <td>4</td>\n",
       "      <td>2011-07-15 14:05:00</td>\n",
       "      <td>2.49</td>\n",
       "      <td>15004.0</td>\n",
       "      <td>United Kingdom</td>\n",
       "      <td>2011</td>\n",
       "    </tr>\n",
       "    <tr>\n",
       "      <th>470800</th>\n",
       "      <td>533750</td>\n",
       "      <td>20618</td>\n",
       "      <td>QUEEN OF THE SKIES PASSPORT COVER</td>\n",
       "      <td>2</td>\n",
       "      <td>2010-11-18 14:17:00</td>\n",
       "      <td>2.10</td>\n",
       "      <td>15571.0</td>\n",
       "      <td>United Kingdom</td>\n",
       "      <td>2010</td>\n",
       "    </tr>\n",
       "    <tr>\n",
       "      <th>667962</th>\n",
       "      <td>548612</td>\n",
       "      <td>22241</td>\n",
       "      <td>GARLAND WOODEN HAPPY EASTER</td>\n",
       "      <td>4</td>\n",
       "      <td>2011-04-01 11:34:00</td>\n",
       "      <td>1.25</td>\n",
       "      <td>13137.0</td>\n",
       "      <td>United Kingdom</td>\n",
       "      <td>2011</td>\n",
       "    </tr>\n",
       "    <tr>\n",
       "      <th>56669</th>\n",
       "      <td>494480</td>\n",
       "      <td>82486</td>\n",
       "      <td>WOOD S/3 CABINET ANT WHITE FINISH</td>\n",
       "      <td>2</td>\n",
       "      <td>2010-01-14 16:16:00</td>\n",
       "      <td>7.95</td>\n",
       "      <td>15768.0</td>\n",
       "      <td>United Kingdom</td>\n",
       "      <td>2010</td>\n",
       "    </tr>\n",
       "    <tr>\n",
       "      <th>998111</th>\n",
       "      <td>576695</td>\n",
       "      <td>23057</td>\n",
       "      <td>BEADED CHANDELIER T-LIGHT HOLDER</td>\n",
       "      <td>1</td>\n",
       "      <td>2011-11-16 12:25:00</td>\n",
       "      <td>4.95</td>\n",
       "      <td>16469.0</td>\n",
       "      <td>United Kingdom</td>\n",
       "      <td>2011</td>\n",
       "    </tr>\n",
       "    <tr>\n",
       "      <th>732840</th>\n",
       "      <td>554986</td>\n",
       "      <td>21937</td>\n",
       "      <td>STRAWBERRY   PICNIC BAG</td>\n",
       "      <td>3</td>\n",
       "      <td>2011-05-29 12:35:00</td>\n",
       "      <td>2.95</td>\n",
       "      <td>14451.0</td>\n",
       "      <td>United Kingdom</td>\n",
       "      <td>2011</td>\n",
       "    </tr>\n",
       "  </tbody>\n",
       "</table>\n",
       "</div>"
      ],
      "text/plain": [
       "       Invoice StockCode                          Description  Quantity  \\\n",
       "844804  564849     22179              SET 10 NIGHT OWL LIGHTS         2   \n",
       "68525   495415     20665                    RED SPOTTY PURSE          6   \n",
       "999873  576840     23245           SET OF 3 REGENCY CAKE TINS         4   \n",
       "774781  558902     21930             JUMBO STORAGE BAG SKULLS        10   \n",
       "790532  560209     23093  SMALL PARISIENNE HEART PHOTO FRAME          4   \n",
       "470800  533750     20618   QUEEN OF THE SKIES PASSPORT COVER          2   \n",
       "667962  548612     22241          GARLAND WOODEN HAPPY EASTER         4   \n",
       "56669   494480     82486    WOOD S/3 CABINET ANT WHITE FINISH         2   \n",
       "998111  576695     23057     BEADED CHANDELIER T-LIGHT HOLDER         1   \n",
       "732840  554986     21937              STRAWBERRY   PICNIC BAG         3   \n",
       "\n",
       "               InvoiceDate  Price  Customer ID         Country  Year  \n",
       "844804 2011-08-30 15:42:00   6.75      17675.0  United Kingdom  2011  \n",
       "68525  2010-01-25 11:32:00   2.95      18199.0  United Kingdom  2010  \n",
       "999873 2011-11-16 15:23:00  10.79          NaN  United Kingdom  2011  \n",
       "774781 2011-07-04 16:08:00   2.08      13001.0  United Kingdom  2011  \n",
       "790532 2011-07-15 14:05:00   2.49      15004.0  United Kingdom  2011  \n",
       "470800 2010-11-18 14:17:00   2.10      15571.0  United Kingdom  2010  \n",
       "667962 2011-04-01 11:34:00   1.25      13137.0  United Kingdom  2011  \n",
       "56669  2010-01-14 16:16:00   7.95      15768.0  United Kingdom  2010  \n",
       "998111 2011-11-16 12:25:00   4.95      16469.0  United Kingdom  2011  \n",
       "732840 2011-05-29 12:35:00   2.95      14451.0  United Kingdom  2011  "
      ]
     },
     "execution_count": 34,
     "metadata": {},
     "output_type": "execute_result"
    }
   ],
   "source": [
    "df['Year']= df['InvoiceDate'].dt.year\n",
    "df.sample(10)"
   ]
  },
  {
   "cell_type": "markdown",
   "metadata": {},
   "source": [
    "memasukkan nilai tahun dari kolom InvoiceDate kedalam kolom baru Year"
   ]
  },
  {
   "cell_type": "markdown",
   "metadata": {},
   "source": [
    "### Filtering Data"
   ]
  },
  {
   "cell_type": "code",
   "execution_count": 14,
   "metadata": {},
   "outputs": [
    {
     "data": {
      "text/html": [
       "<div>\n",
       "<style scoped>\n",
       "    .dataframe tbody tr th:only-of-type {\n",
       "        vertical-align: middle;\n",
       "    }\n",
       "\n",
       "    .dataframe tbody tr th {\n",
       "        vertical-align: top;\n",
       "    }\n",
       "\n",
       "    .dataframe thead th {\n",
       "        text-align: right;\n",
       "    }\n",
       "</style>\n",
       "<table border=\"1\" class=\"dataframe\">\n",
       "  <thead>\n",
       "    <tr style=\"text-align: right;\">\n",
       "      <th></th>\n",
       "      <th>Invoice</th>\n",
       "      <th>StockCode</th>\n",
       "      <th>Description</th>\n",
       "      <th>Quantity</th>\n",
       "      <th>InvoiceDate</th>\n",
       "      <th>Price</th>\n",
       "      <th>Customer ID</th>\n",
       "      <th>Country</th>\n",
       "      <th>Year</th>\n",
       "    </tr>\n",
       "  </thead>\n",
       "  <tbody>\n",
       "    <tr>\n",
       "      <th>353382</th>\n",
       "      <td>523747</td>\n",
       "      <td>79067</td>\n",
       "      <td>CORONA MEXICAN TRAY</td>\n",
       "      <td>1</td>\n",
       "      <td>2010-09-23 18:07:00</td>\n",
       "      <td>3.75</td>\n",
       "      <td>NaN</td>\n",
       "      <td>United Kingdom</td>\n",
       "      <td>2010</td>\n",
       "    </tr>\n",
       "    <tr>\n",
       "      <th>6051</th>\n",
       "      <td>489866</td>\n",
       "      <td>85231B</td>\n",
       "      <td>CINAMMON SET OF 9 T-LIGHTS</td>\n",
       "      <td>2</td>\n",
       "      <td>2009-12-02 15:04:00</td>\n",
       "      <td>0.85</td>\n",
       "      <td>16200.0</td>\n",
       "      <td>United Kingdom</td>\n",
       "      <td>2009</td>\n",
       "    </tr>\n",
       "    <tr>\n",
       "      <th>66558</th>\n",
       "      <td>495331</td>\n",
       "      <td>15056P</td>\n",
       "      <td>EDWARDIAN PARASOL PINK</td>\n",
       "      <td>1</td>\n",
       "      <td>2010-01-22 16:28:00</td>\n",
       "      <td>5.95</td>\n",
       "      <td>17799.0</td>\n",
       "      <td>United Kingdom</td>\n",
       "      <td>2010</td>\n",
       "    </tr>\n",
       "    <tr>\n",
       "      <th>958972</th>\n",
       "      <td>573924</td>\n",
       "      <td>23293</td>\n",
       "      <td>SET OF 12 FAIRY CAKE BAKING CASES</td>\n",
       "      <td>16</td>\n",
       "      <td>2011-11-02 09:45:00</td>\n",
       "      <td>0.83</td>\n",
       "      <td>15065.0</td>\n",
       "      <td>United Kingdom</td>\n",
       "      <td>2011</td>\n",
       "    </tr>\n",
       "    <tr>\n",
       "      <th>250406</th>\n",
       "      <td>513594</td>\n",
       "      <td>22433</td>\n",
       "      <td>WATERING CAN GREEN DINOSAUR</td>\n",
       "      <td>1</td>\n",
       "      <td>2010-06-27 10:54:00</td>\n",
       "      <td>1.95</td>\n",
       "      <td>16782.0</td>\n",
       "      <td>United Kingdom</td>\n",
       "      <td>2010</td>\n",
       "    </tr>\n",
       "    <tr>\n",
       "      <th>296311</th>\n",
       "      <td>518230</td>\n",
       "      <td>21411</td>\n",
       "      <td>GINGHAM HEART  DOORSTOP RED</td>\n",
       "      <td>2</td>\n",
       "      <td>2010-08-05 15:14:00</td>\n",
       "      <td>4.25</td>\n",
       "      <td>14395.0</td>\n",
       "      <td>United Kingdom</td>\n",
       "      <td>2010</td>\n",
       "    </tr>\n",
       "    <tr>\n",
       "      <th>406490</th>\n",
       "      <td>528330</td>\n",
       "      <td>21888</td>\n",
       "      <td>BINGO SET</td>\n",
       "      <td>4</td>\n",
       "      <td>2010-10-21 13:27:00</td>\n",
       "      <td>3.75</td>\n",
       "      <td>13836.0</td>\n",
       "      <td>United Kingdom</td>\n",
       "      <td>2010</td>\n",
       "    </tr>\n",
       "    <tr>\n",
       "      <th>798170</th>\n",
       "      <td>560773</td>\n",
       "      <td>22559</td>\n",
       "      <td>SEASIDE FLYING DISC</td>\n",
       "      <td>2</td>\n",
       "      <td>2011-07-20 16:17:00</td>\n",
       "      <td>0.83</td>\n",
       "      <td>NaN</td>\n",
       "      <td>United Kingdom</td>\n",
       "      <td>2011</td>\n",
       "    </tr>\n",
       "    <tr>\n",
       "      <th>931504</th>\n",
       "      <td>571726</td>\n",
       "      <td>22930</td>\n",
       "      <td>BAKING MOULD HEART MILK CHOCOLATE</td>\n",
       "      <td>6</td>\n",
       "      <td>2011-10-19 09:00:00</td>\n",
       "      <td>2.55</td>\n",
       "      <td>16191.0</td>\n",
       "      <td>United Kingdom</td>\n",
       "      <td>2011</td>\n",
       "    </tr>\n",
       "    <tr>\n",
       "      <th>54373</th>\n",
       "      <td>494379</td>\n",
       "      <td>20748</td>\n",
       "      <td>KENSINGTON COFFEE SET</td>\n",
       "      <td>3</td>\n",
       "      <td>2010-01-13 17:08:00</td>\n",
       "      <td>8.47</td>\n",
       "      <td>NaN</td>\n",
       "      <td>United Kingdom</td>\n",
       "      <td>2010</td>\n",
       "    </tr>\n",
       "  </tbody>\n",
       "</table>\n",
       "</div>"
      ],
      "text/plain": [
       "       Invoice StockCode                        Description  Quantity  \\\n",
       "353382  523747     79067                CORONA MEXICAN TRAY         1   \n",
       "6051    489866    85231B         CINAMMON SET OF 9 T-LIGHTS         2   \n",
       "66558   495331    15056P             EDWARDIAN PARASOL PINK         1   \n",
       "958972  573924     23293  SET OF 12 FAIRY CAKE BAKING CASES        16   \n",
       "250406  513594     22433        WATERING CAN GREEN DINOSAUR         1   \n",
       "296311  518230     21411        GINGHAM HEART  DOORSTOP RED         2   \n",
       "406490  528330     21888                          BINGO SET         4   \n",
       "798170  560773     22559                SEASIDE FLYING DISC         2   \n",
       "931504  571726     22930  BAKING MOULD HEART MILK CHOCOLATE         6   \n",
       "54373   494379     20748              KENSINGTON COFFEE SET         3   \n",
       "\n",
       "               InvoiceDate  Price  Customer ID         Country  Year  \n",
       "353382 2010-09-23 18:07:00   3.75          NaN  United Kingdom  2010  \n",
       "6051   2009-12-02 15:04:00   0.85      16200.0  United Kingdom  2009  \n",
       "66558  2010-01-22 16:28:00   5.95      17799.0  United Kingdom  2010  \n",
       "958972 2011-11-02 09:45:00   0.83      15065.0  United Kingdom  2011  \n",
       "250406 2010-06-27 10:54:00   1.95      16782.0  United Kingdom  2010  \n",
       "296311 2010-08-05 15:14:00   4.25      14395.0  United Kingdom  2010  \n",
       "406490 2010-10-21 13:27:00   3.75      13836.0  United Kingdom  2010  \n",
       "798170 2011-07-20 16:17:00   0.83          NaN  United Kingdom  2011  \n",
       "931504 2011-10-19 09:00:00   2.55      16191.0  United Kingdom  2011  \n",
       "54373  2010-01-13 17:08:00   8.47          NaN  United Kingdom  2010  "
      ]
     },
     "execution_count": 14,
     "metadata": {},
     "output_type": "execute_result"
    }
   ],
   "source": [
    "df_filtered = df[(df[\"Quantity\"] > 0) & (~df[\"Invoice\"].str.contains(\"C\"))]\n",
    "df.sample(10)"
   ]
  },
  {
   "cell_type": "markdown",
   "metadata": {},
   "source": [
    "membuang nilai pada kolom quantity dibawah 0 dan membuang data yang mengandung 'C' pada kolom Invoice"
   ]
  },
  {
   "cell_type": "code",
   "execution_count": 15,
   "metadata": {},
   "outputs": [
    {
     "name": "stdout",
     "output_type": "stream",
     "text": [
      "non filter data: (1067371, 9)\n",
      "filtered data: (1044420, 9)\n"
     ]
    }
   ],
   "source": [
    "print(\"non filter data:\", df.shape)\n",
    "print(\"filtered data:\", df_filtered.shape)"
   ]
  },
  {
   "cell_type": "markdown",
   "metadata": {},
   "source": [
    "### Create New Feature: Revenue"
   ]
  },
  {
   "cell_type": "code",
   "execution_count": 16,
   "metadata": {},
   "outputs": [
    {
     "data": {
      "text/html": [
       "<div>\n",
       "<style scoped>\n",
       "    .dataframe tbody tr th:only-of-type {\n",
       "        vertical-align: middle;\n",
       "    }\n",
       "\n",
       "    .dataframe tbody tr th {\n",
       "        vertical-align: top;\n",
       "    }\n",
       "\n",
       "    .dataframe thead th {\n",
       "        text-align: right;\n",
       "    }\n",
       "</style>\n",
       "<table border=\"1\" class=\"dataframe\">\n",
       "  <thead>\n",
       "    <tr style=\"text-align: right;\">\n",
       "      <th></th>\n",
       "      <th>Invoice</th>\n",
       "      <th>StockCode</th>\n",
       "      <th>Description</th>\n",
       "      <th>Quantity</th>\n",
       "      <th>InvoiceDate</th>\n",
       "      <th>Price</th>\n",
       "      <th>Customer ID</th>\n",
       "      <th>Country</th>\n",
       "      <th>Year</th>\n",
       "      <th>Revenue</th>\n",
       "    </tr>\n",
       "  </thead>\n",
       "  <tbody>\n",
       "    <tr>\n",
       "      <th>672126</th>\n",
       "      <td>549014</td>\n",
       "      <td>22269</td>\n",
       "      <td>EGG CUP NATURAL CHICKEN</td>\n",
       "      <td>2</td>\n",
       "      <td>2011-04-05 15:00:00</td>\n",
       "      <td>1.25</td>\n",
       "      <td>17841.0</td>\n",
       "      <td>United Kingdom</td>\n",
       "      <td>2011</td>\n",
       "      <td>2.50</td>\n",
       "    </tr>\n",
       "    <tr>\n",
       "      <th>88558</th>\n",
       "      <td>497715</td>\n",
       "      <td>21500</td>\n",
       "      <td>PINK SPOTS  WRAP</td>\n",
       "      <td>300</td>\n",
       "      <td>2010-02-11 17:33:00</td>\n",
       "      <td>0.34</td>\n",
       "      <td>15061.0</td>\n",
       "      <td>United Kingdom</td>\n",
       "      <td>2010</td>\n",
       "      <td>102.00</td>\n",
       "    </tr>\n",
       "    <tr>\n",
       "      <th>154582</th>\n",
       "      <td>504109</td>\n",
       "      <td>21557</td>\n",
       "      <td>SET OF 6 FUNKY BEAKERS</td>\n",
       "      <td>1</td>\n",
       "      <td>2010-04-09 14:58:00</td>\n",
       "      <td>5.74</td>\n",
       "      <td>NaN</td>\n",
       "      <td>United Kingdom</td>\n",
       "      <td>2010</td>\n",
       "      <td>5.74</td>\n",
       "    </tr>\n",
       "    <tr>\n",
       "      <th>105911</th>\n",
       "      <td>499502</td>\n",
       "      <td>47578A</td>\n",
       "      <td>ENGLISH ROSE SMALL SCENTED FLOWER</td>\n",
       "      <td>1</td>\n",
       "      <td>2010-02-28 15:01:00</td>\n",
       "      <td>0.85</td>\n",
       "      <td>14044.0</td>\n",
       "      <td>United Kingdom</td>\n",
       "      <td>2010</td>\n",
       "      <td>0.85</td>\n",
       "    </tr>\n",
       "    <tr>\n",
       "      <th>627120</th>\n",
       "      <td>544928</td>\n",
       "      <td>84987</td>\n",
       "      <td>SET OF 36 TEATIME PAPER DOILIES</td>\n",
       "      <td>1</td>\n",
       "      <td>2011-02-24 18:07:00</td>\n",
       "      <td>2.92</td>\n",
       "      <td>NaN</td>\n",
       "      <td>United Kingdom</td>\n",
       "      <td>2011</td>\n",
       "      <td>2.92</td>\n",
       "    </tr>\n",
       "    <tr>\n",
       "      <th>1008612</th>\n",
       "      <td>577495</td>\n",
       "      <td>22491</td>\n",
       "      <td>PACK OF 12 COLOURED PENCILS</td>\n",
       "      <td>1</td>\n",
       "      <td>2011-11-20 12:20:00</td>\n",
       "      <td>0.85</td>\n",
       "      <td>14704.0</td>\n",
       "      <td>United Kingdom</td>\n",
       "      <td>2011</td>\n",
       "      <td>0.85</td>\n",
       "    </tr>\n",
       "    <tr>\n",
       "      <th>305694</th>\n",
       "      <td>519216</td>\n",
       "      <td>21929</td>\n",
       "      <td>JUMBO BAG PINK VINTAGE PAISLEY</td>\n",
       "      <td>10</td>\n",
       "      <td>2010-08-15 11:50:00</td>\n",
       "      <td>1.95</td>\n",
       "      <td>15641.0</td>\n",
       "      <td>United Kingdom</td>\n",
       "      <td>2010</td>\n",
       "      <td>19.50</td>\n",
       "    </tr>\n",
       "    <tr>\n",
       "      <th>673621</th>\n",
       "      <td>549185</td>\n",
       "      <td>22666</td>\n",
       "      <td>RECIPE BOX PANTRY YELLOW DESIGN</td>\n",
       "      <td>6</td>\n",
       "      <td>2011-04-07 09:35:00</td>\n",
       "      <td>2.95</td>\n",
       "      <td>18272.0</td>\n",
       "      <td>United Kingdom</td>\n",
       "      <td>2011</td>\n",
       "      <td>17.70</td>\n",
       "    </tr>\n",
       "    <tr>\n",
       "      <th>974559</th>\n",
       "      <td>575086</td>\n",
       "      <td>23514</td>\n",
       "      <td>EMBROIDERED RIBBON REEL SALLY</td>\n",
       "      <td>6</td>\n",
       "      <td>2011-11-08 13:52:00</td>\n",
       "      <td>2.08</td>\n",
       "      <td>16618.0</td>\n",
       "      <td>United Kingdom</td>\n",
       "      <td>2011</td>\n",
       "      <td>12.48</td>\n",
       "    </tr>\n",
       "    <tr>\n",
       "      <th>676419</th>\n",
       "      <td>549525</td>\n",
       "      <td>22893</td>\n",
       "      <td>MINI CAKE STAND T-LIGHT HOLDER</td>\n",
       "      <td>4</td>\n",
       "      <td>2011-04-08 15:44:00</td>\n",
       "      <td>0.83</td>\n",
       "      <td>NaN</td>\n",
       "      <td>United Kingdom</td>\n",
       "      <td>2011</td>\n",
       "      <td>3.32</td>\n",
       "    </tr>\n",
       "  </tbody>\n",
       "</table>\n",
       "</div>"
      ],
      "text/plain": [
       "        Invoice StockCode                        Description  Quantity  \\\n",
       "672126   549014     22269            EGG CUP NATURAL CHICKEN         2   \n",
       "88558    497715     21500                  PINK SPOTS  WRAP        300   \n",
       "154582   504109     21557             SET OF 6 FUNKY BEAKERS         1   \n",
       "105911   499502    47578A  ENGLISH ROSE SMALL SCENTED FLOWER         1   \n",
       "627120   544928     84987    SET OF 36 TEATIME PAPER DOILIES         1   \n",
       "1008612  577495     22491        PACK OF 12 COLOURED PENCILS         1   \n",
       "305694   519216     21929     JUMBO BAG PINK VINTAGE PAISLEY        10   \n",
       "673621   549185     22666    RECIPE BOX PANTRY YELLOW DESIGN         6   \n",
       "974559   575086     23514     EMBROIDERED RIBBON REEL SALLY          6   \n",
       "676419   549525     22893     MINI CAKE STAND T-LIGHT HOLDER         4   \n",
       "\n",
       "                InvoiceDate  Price  Customer ID         Country  Year  Revenue  \n",
       "672126  2011-04-05 15:00:00   1.25      17841.0  United Kingdom  2011     2.50  \n",
       "88558   2010-02-11 17:33:00   0.34      15061.0  United Kingdom  2010   102.00  \n",
       "154582  2010-04-09 14:58:00   5.74          NaN  United Kingdom  2010     5.74  \n",
       "105911  2010-02-28 15:01:00   0.85      14044.0  United Kingdom  2010     0.85  \n",
       "627120  2011-02-24 18:07:00   2.92          NaN  United Kingdom  2011     2.92  \n",
       "1008612 2011-11-20 12:20:00   0.85      14704.0  United Kingdom  2011     0.85  \n",
       "305694  2010-08-15 11:50:00   1.95      15641.0  United Kingdom  2010    19.50  \n",
       "673621  2011-04-07 09:35:00   2.95      18272.0  United Kingdom  2011    17.70  \n",
       "974559  2011-11-08 13:52:00   2.08      16618.0  United Kingdom  2011    12.48  \n",
       "676419  2011-04-08 15:44:00   0.83          NaN  United Kingdom  2011     3.32  "
      ]
     },
     "execution_count": 16,
     "metadata": {},
     "output_type": "execute_result"
    }
   ],
   "source": [
    "df['Revenue'] = df['Quantity'] * df['Price']\n",
    "df.sample(10)"
   ]
  },
  {
   "cell_type": "markdown",
   "metadata": {},
   "source": [
    "### Average of Revenue per Year"
   ]
  },
  {
   "cell_type": "code",
   "execution_count": 17,
   "metadata": {},
   "outputs": [
    {
     "data": {
      "text/html": [
       "<div>\n",
       "<style scoped>\n",
       "    .dataframe tbody tr th:only-of-type {\n",
       "        vertical-align: middle;\n",
       "    }\n",
       "\n",
       "    .dataframe tbody tr th {\n",
       "        vertical-align: top;\n",
       "    }\n",
       "\n",
       "    .dataframe thead th {\n",
       "        text-align: right;\n",
       "    }\n",
       "</style>\n",
       "<table border=\"1\" class=\"dataframe\">\n",
       "  <thead>\n",
       "    <tr style=\"text-align: right;\">\n",
       "      <th></th>\n",
       "      <th>mean</th>\n",
       "    </tr>\n",
       "    <tr>\n",
       "      <th>Year</th>\n",
       "      <th></th>\n",
       "    </tr>\n",
       "  </thead>\n",
       "  <tbody>\n",
       "    <tr>\n",
       "      <th>2009</th>\n",
       "      <td>17.684777</td>\n",
       "    </tr>\n",
       "    <tr>\n",
       "      <th>2010</th>\n",
       "      <td>18.152555</td>\n",
       "    </tr>\n",
       "    <tr>\n",
       "      <th>2011</th>\n",
       "      <td>18.018195</td>\n",
       "    </tr>\n",
       "  </tbody>\n",
       "</table>\n",
       "</div>"
      ],
      "text/plain": [
       "           mean\n",
       "Year           \n",
       "2009  17.684777\n",
       "2010  18.152555\n",
       "2011  18.018195"
      ]
     },
     "execution_count": 17,
     "metadata": {},
     "output_type": "execute_result"
    }
   ],
   "source": [
    "df.groupby(\"Year\")['Revenue'].agg([np.mean])"
   ]
  },
  {
   "cell_type": "markdown",
   "metadata": {},
   "source": [
    "mean per year"
   ]
  },
  {
   "cell_type": "code",
   "execution_count": 18,
   "metadata": {},
   "outputs": [
    {
     "data": {
      "text/plain": [
       "<AxesSubplot:xlabel='Year'>"
      ]
     },
     "execution_count": 18,
     "metadata": {},
     "output_type": "execute_result"
    },
    {
     "data": {
      "image/png": "[encoded data removed]",
      "text/plain": [
       "<Figure size 432x288 with 1 Axes>"
      ]
     },
     "metadata": {
      "needs_background": "light"
     },
     "output_type": "display_data"
    }
   ],
   "source": [
    "df.groupby(\"Year\")['Revenue'].agg([np.mean]).plot()"
   ]
  },
  {
   "cell_type": "markdown",
   "metadata": {},
   "source": [
    "visualization"
   ]
  },
  {
   "cell_type": "markdown",
   "metadata": {},
   "source": [
    "### Interpretation"
   ]
  },
  {
   "cell_type": "markdown",
   "metadata": {},
   "source": [
    "pada tahun 2009, rata-rata pendapatan sekitar 17.68<br> \n",
    "Kemudian pada tahun 2010 terdapat kenaikan pendapatan sekitar 2.5% sehingga menjadi 18.15<br> \n",
    "Pada tahun 2011 terjadi penurun pendapatan sekitar 0.78% yang membuat rata-rata pendapatan pada tahun 2011 menjadi 18.01"
   ]
  },
  {
   "cell_type": "markdown",
   "metadata": {},
   "source": [
    "# Section 2"
   ]
  },
  {
   "cell_type": "markdown",
   "metadata": {},
   "source": [
    "### Filtering Data"
   ]
  },
  {
   "cell_type": "markdown",
   "metadata": {},
   "source": [
    "#### Customer who Finished ther Purchases"
   ]
  },
  {
   "cell_type": "code",
   "execution_count": 19,
   "metadata": {},
   "outputs": [
    {
     "data": {
      "text/plain": [
       "Invoice             0\n",
       "StockCode           0\n",
       "Description      1693\n",
       "Quantity            0\n",
       "InvoiceDate         0\n",
       "Price               0\n",
       "Customer ID    238800\n",
       "Country             0\n",
       "Year                0\n",
       "dtype: int64"
      ]
     },
     "execution_count": 19,
     "metadata": {},
     "output_type": "execute_result"
    }
   ],
   "source": [
    "df_filtered.isnull().sum()"
   ]
  },
  {
   "cell_type": "code",
   "execution_count": 20,
   "metadata": {},
   "outputs": [
    {
     "data": {
      "text/plain": [
       "Invoice        0\n",
       "StockCode      0\n",
       "Description    0\n",
       "Quantity       0\n",
       "InvoiceDate    0\n",
       "Price          0\n",
       "Customer ID    0\n",
       "Country        0\n",
       "Year           0\n",
       "dtype: int64"
      ]
     },
     "execution_count": 20,
     "metadata": {},
     "output_type": "execute_result"
    }
   ],
   "source": [
    "finished = df_filtered[(~df_filtered['Customer ID'].isna())]\n",
    "finished.isnull().sum()"
   ]
  },
  {
   "cell_type": "code",
   "execution_count": 21,
   "metadata": {},
   "outputs": [
    {
     "name": "stdout",
     "output_type": "stream",
     "text": [
      "non filter data: (1044420, 9)\n",
      "filtered data: (805620, 9)\n"
     ]
    }
   ],
   "source": [
    "print(\"non filter data:\", df_filtered.shape)\n",
    "print(\"filtered data:\", finished.shape)"
   ]
  },
  {
   "cell_type": "code",
   "execution_count": 22,
   "metadata": {},
   "outputs": [
    {
     "data": {
      "text/html": [
       "<div>\n",
       "<style scoped>\n",
       "    .dataframe tbody tr th:only-of-type {\n",
       "        vertical-align: middle;\n",
       "    }\n",
       "\n",
       "    .dataframe tbody tr th {\n",
       "        vertical-align: top;\n",
       "    }\n",
       "\n",
       "    .dataframe thead th {\n",
       "        text-align: right;\n",
       "    }\n",
       "</style>\n",
       "<table border=\"1\" class=\"dataframe\">\n",
       "  <thead>\n",
       "    <tr style=\"text-align: right;\">\n",
       "      <th></th>\n",
       "      <th>Invoice</th>\n",
       "      <th>StockCode</th>\n",
       "      <th>Description</th>\n",
       "      <th>Quantity</th>\n",
       "      <th>InvoiceDate</th>\n",
       "      <th>Price</th>\n",
       "      <th>Customer ID</th>\n",
       "      <th>Country</th>\n",
       "      <th>Year</th>\n",
       "      <th>Revenue</th>\n",
       "    </tr>\n",
       "  </thead>\n",
       "  <tbody>\n",
       "    <tr>\n",
       "      <th>0</th>\n",
       "      <td>489434</td>\n",
       "      <td>85048</td>\n",
       "      <td>15CM CHRISTMAS GLASS BALL 20 LIGHTS</td>\n",
       "      <td>12</td>\n",
       "      <td>2009-12-01 07:45:00</td>\n",
       "      <td>6.95</td>\n",
       "      <td>13085.0</td>\n",
       "      <td>United Kingdom</td>\n",
       "      <td>2009</td>\n",
       "      <td>83.4</td>\n",
       "    </tr>\n",
       "    <tr>\n",
       "      <th>1</th>\n",
       "      <td>489434</td>\n",
       "      <td>79323P</td>\n",
       "      <td>PINK CHERRY LIGHTS</td>\n",
       "      <td>12</td>\n",
       "      <td>2009-12-01 07:45:00</td>\n",
       "      <td>6.75</td>\n",
       "      <td>13085.0</td>\n",
       "      <td>United Kingdom</td>\n",
       "      <td>2009</td>\n",
       "      <td>81.0</td>\n",
       "    </tr>\n",
       "    <tr>\n",
       "      <th>2</th>\n",
       "      <td>489434</td>\n",
       "      <td>79323W</td>\n",
       "      <td>WHITE CHERRY LIGHTS</td>\n",
       "      <td>12</td>\n",
       "      <td>2009-12-01 07:45:00</td>\n",
       "      <td>6.75</td>\n",
       "      <td>13085.0</td>\n",
       "      <td>United Kingdom</td>\n",
       "      <td>2009</td>\n",
       "      <td>81.0</td>\n",
       "    </tr>\n",
       "    <tr>\n",
       "      <th>3</th>\n",
       "      <td>489434</td>\n",
       "      <td>22041</td>\n",
       "      <td>RECORD FRAME 7\" SINGLE SIZE</td>\n",
       "      <td>48</td>\n",
       "      <td>2009-12-01 07:45:00</td>\n",
       "      <td>2.10</td>\n",
       "      <td>13085.0</td>\n",
       "      <td>United Kingdom</td>\n",
       "      <td>2009</td>\n",
       "      <td>100.8</td>\n",
       "    </tr>\n",
       "    <tr>\n",
       "      <th>4</th>\n",
       "      <td>489434</td>\n",
       "      <td>21232</td>\n",
       "      <td>STRAWBERRY CERAMIC TRINKET BOX</td>\n",
       "      <td>24</td>\n",
       "      <td>2009-12-01 07:45:00</td>\n",
       "      <td>1.25</td>\n",
       "      <td>13085.0</td>\n",
       "      <td>United Kingdom</td>\n",
       "      <td>2009</td>\n",
       "      <td>30.0</td>\n",
       "    </tr>\n",
       "  </tbody>\n",
       "</table>\n",
       "</div>"
      ],
      "text/plain": [
       "  Invoice StockCode                          Description  Quantity  \\\n",
       "0  489434     85048  15CM CHRISTMAS GLASS BALL 20 LIGHTS        12   \n",
       "1  489434    79323P                   PINK CHERRY LIGHTS        12   \n",
       "2  489434    79323W                  WHITE CHERRY LIGHTS        12   \n",
       "3  489434     22041         RECORD FRAME 7\" SINGLE SIZE         48   \n",
       "4  489434     21232       STRAWBERRY CERAMIC TRINKET BOX        24   \n",
       "\n",
       "          InvoiceDate  Price  Customer ID         Country  Year  Revenue  \n",
       "0 2009-12-01 07:45:00   6.95      13085.0  United Kingdom  2009     83.4  \n",
       "1 2009-12-01 07:45:00   6.75      13085.0  United Kingdom  2009     81.0  \n",
       "2 2009-12-01 07:45:00   6.75      13085.0  United Kingdom  2009     81.0  \n",
       "3 2009-12-01 07:45:00   2.10      13085.0  United Kingdom  2009    100.8  \n",
       "4 2009-12-01 07:45:00   1.25      13085.0  United Kingdom  2009     30.0  "
      ]
     },
     "execution_count": 22,
     "metadata": {},
     "output_type": "execute_result"
    }
   ],
   "source": [
    "df.head()"
   ]
  },
  {
   "cell_type": "markdown",
   "metadata": {},
   "source": [
    "#### Customers who canceled their purchases"
   ]
  },
  {
   "cell_type": "code",
   "execution_count": 23,
   "metadata": {},
   "outputs": [
    {
     "data": {
      "text/html": [
       "<div>\n",
       "<style scoped>\n",
       "    .dataframe tbody tr th:only-of-type {\n",
       "        vertical-align: middle;\n",
       "    }\n",
       "\n",
       "    .dataframe tbody tr th {\n",
       "        vertical-align: top;\n",
       "    }\n",
       "\n",
       "    .dataframe thead th {\n",
       "        text-align: right;\n",
       "    }\n",
       "</style>\n",
       "<table border=\"1\" class=\"dataframe\">\n",
       "  <thead>\n",
       "    <tr style=\"text-align: right;\">\n",
       "      <th></th>\n",
       "      <th>Invoice</th>\n",
       "      <th>StockCode</th>\n",
       "      <th>Description</th>\n",
       "      <th>Quantity</th>\n",
       "      <th>InvoiceDate</th>\n",
       "      <th>Price</th>\n",
       "      <th>Customer ID</th>\n",
       "      <th>Country</th>\n",
       "      <th>Year</th>\n",
       "      <th>Revenue</th>\n",
       "    </tr>\n",
       "  </thead>\n",
       "  <tbody>\n",
       "    <tr>\n",
       "      <th>593879</th>\n",
       "      <td>C541868</td>\n",
       "      <td>21232</td>\n",
       "      <td>STRAWBERRY CERAMIC TRINKET BOX</td>\n",
       "      <td>-2</td>\n",
       "      <td>2011-01-24 09:30:00</td>\n",
       "      <td>1.25</td>\n",
       "      <td>14796.0</td>\n",
       "      <td>United Kingdom</td>\n",
       "      <td>2011</td>\n",
       "      <td>-2.50</td>\n",
       "    </tr>\n",
       "    <tr>\n",
       "      <th>188369</th>\n",
       "      <td>C507274</td>\n",
       "      <td>47505</td>\n",
       "      <td>MINATURE COLOURED GARDENING SET</td>\n",
       "      <td>-10</td>\n",
       "      <td>2010-05-07 12:49:00</td>\n",
       "      <td>4.25</td>\n",
       "      <td>14824.0</td>\n",
       "      <td>United Kingdom</td>\n",
       "      <td>2010</td>\n",
       "      <td>-42.50</td>\n",
       "    </tr>\n",
       "    <tr>\n",
       "      <th>858499</th>\n",
       "      <td>C566165</td>\n",
       "      <td>22423</td>\n",
       "      <td>REGENCY CAKESTAND 3 TIER</td>\n",
       "      <td>-1</td>\n",
       "      <td>2011-09-09 11:57:00</td>\n",
       "      <td>12.75</td>\n",
       "      <td>14911.0</td>\n",
       "      <td>EIRE</td>\n",
       "      <td>2011</td>\n",
       "      <td>-12.75</td>\n",
       "    </tr>\n",
       "    <tr>\n",
       "      <th>386465</th>\n",
       "      <td>C526523</td>\n",
       "      <td>22635</td>\n",
       "      <td>CHILDS BREAKFAST SET DOLLY GIRL</td>\n",
       "      <td>-1</td>\n",
       "      <td>2010-10-12 11:16:00</td>\n",
       "      <td>9.95</td>\n",
       "      <td>NaN</td>\n",
       "      <td>United Kingdom</td>\n",
       "      <td>2010</td>\n",
       "      <td>-9.95</td>\n",
       "    </tr>\n",
       "    <tr>\n",
       "      <th>203438</th>\n",
       "      <td>C509015</td>\n",
       "      <td>21790</td>\n",
       "      <td>VINTAGE SNAP CARDS</td>\n",
       "      <td>-3</td>\n",
       "      <td>2010-05-19 13:36:00</td>\n",
       "      <td>0.85</td>\n",
       "      <td>14598.0</td>\n",
       "      <td>United Kingdom</td>\n",
       "      <td>2010</td>\n",
       "      <td>-2.55</td>\n",
       "    </tr>\n",
       "    <tr>\n",
       "      <th>530723</th>\n",
       "      <td>C536854</td>\n",
       "      <td>21871</td>\n",
       "      <td>SAVE THE PLANET MUG</td>\n",
       "      <td>-1</td>\n",
       "      <td>2010-12-03 10:09:00</td>\n",
       "      <td>1.25</td>\n",
       "      <td>15240.0</td>\n",
       "      <td>United Kingdom</td>\n",
       "      <td>2010</td>\n",
       "      <td>-1.25</td>\n",
       "    </tr>\n",
       "    <tr>\n",
       "      <th>818558</th>\n",
       "      <td>C562577</td>\n",
       "      <td>23207</td>\n",
       "      <td>LUNCH BAG ALPHABET DESIGN</td>\n",
       "      <td>-1</td>\n",
       "      <td>2011-08-07 13:09:00</td>\n",
       "      <td>1.65</td>\n",
       "      <td>15518.0</td>\n",
       "      <td>United Kingdom</td>\n",
       "      <td>2011</td>\n",
       "      <td>-1.65</td>\n",
       "    </tr>\n",
       "    <tr>\n",
       "      <th>222443</th>\n",
       "      <td>C511024</td>\n",
       "      <td>21175</td>\n",
       "      <td>GIN + TONIC DIET METAL SIGN</td>\n",
       "      <td>-1</td>\n",
       "      <td>2010-06-06 09:41:00</td>\n",
       "      <td>2.10</td>\n",
       "      <td>16242.0</td>\n",
       "      <td>United Kingdom</td>\n",
       "      <td>2010</td>\n",
       "      <td>-2.10</td>\n",
       "    </tr>\n",
       "    <tr>\n",
       "      <th>197096</th>\n",
       "      <td>C508240</td>\n",
       "      <td>22138</td>\n",
       "      <td>BAKING SET 9 PIECE RETROSPOT</td>\n",
       "      <td>-3</td>\n",
       "      <td>2010-05-13 19:53:00</td>\n",
       "      <td>4.95</td>\n",
       "      <td>14329.0</td>\n",
       "      <td>United Kingdom</td>\n",
       "      <td>2010</td>\n",
       "      <td>-14.85</td>\n",
       "    </tr>\n",
       "    <tr>\n",
       "      <th>564070</th>\n",
       "      <td>C539589</td>\n",
       "      <td>D</td>\n",
       "      <td>Discount</td>\n",
       "      <td>-1</td>\n",
       "      <td>2010-12-20 13:14:00</td>\n",
       "      <td>13.88</td>\n",
       "      <td>14527.0</td>\n",
       "      <td>United Kingdom</td>\n",
       "      <td>2010</td>\n",
       "      <td>-13.88</td>\n",
       "    </tr>\n",
       "  </tbody>\n",
       "</table>\n",
       "</div>"
      ],
      "text/plain": [
       "        Invoice StockCode                       Description  Quantity  \\\n",
       "593879  C541868     21232    STRAWBERRY CERAMIC TRINKET BOX        -2   \n",
       "188369  C507274     47505   MINATURE COLOURED GARDENING SET       -10   \n",
       "858499  C566165     22423          REGENCY CAKESTAND 3 TIER        -1   \n",
       "386465  C526523     22635  CHILDS BREAKFAST SET DOLLY GIRL         -1   \n",
       "203438  C509015     21790                VINTAGE SNAP CARDS        -3   \n",
       "530723  C536854     21871               SAVE THE PLANET MUG        -1   \n",
       "818558  C562577     23207         LUNCH BAG ALPHABET DESIGN        -1   \n",
       "222443  C511024     21175       GIN + TONIC DIET METAL SIGN        -1   \n",
       "197096  C508240     22138     BAKING SET 9 PIECE RETROSPOT         -3   \n",
       "564070  C539589         D                          Discount        -1   \n",
       "\n",
       "               InvoiceDate  Price  Customer ID         Country  Year  Revenue  \n",
       "593879 2011-01-24 09:30:00   1.25      14796.0  United Kingdom  2011    -2.50  \n",
       "188369 2010-05-07 12:49:00   4.25      14824.0  United Kingdom  2010   -42.50  \n",
       "858499 2011-09-09 11:57:00  12.75      14911.0            EIRE  2011   -12.75  \n",
       "386465 2010-10-12 11:16:00   9.95          NaN  United Kingdom  2010    -9.95  \n",
       "203438 2010-05-19 13:36:00   0.85      14598.0  United Kingdom  2010    -2.55  \n",
       "530723 2010-12-03 10:09:00   1.25      15240.0  United Kingdom  2010    -1.25  \n",
       "818558 2011-08-07 13:09:00   1.65      15518.0  United Kingdom  2011    -1.65  \n",
       "222443 2010-06-06 09:41:00   2.10      16242.0  United Kingdom  2010    -2.10  \n",
       "197096 2010-05-13 19:53:00   4.95      14329.0  United Kingdom  2010   -14.85  \n",
       "564070 2010-12-20 13:14:00  13.88      14527.0  United Kingdom  2010   -13.88  "
      ]
     },
     "execution_count": 23,
     "metadata": {},
     "output_type": "execute_result"
    }
   ],
   "source": [
    "cancel = df[(df['Invoice'].str.contains(\"C\"))]\n",
    "cancel.sample(10)"
   ]
  },
  {
   "cell_type": "markdown",
   "metadata": {},
   "source": [
    "### Number of Finished and Canceled Transactions Each Year"
   ]
  },
  {
   "cell_type": "markdown",
   "metadata": {},
   "source": [
    "#### Transaction Finished"
   ]
  },
  {
   "cell_type": "code",
   "execution_count": 24,
   "metadata": {},
   "outputs": [
    {
     "data": {
      "text/plain": [
       "2009     30761\n",
       "2011    371765\n",
       "2010    403094\n",
       "Name: Year, dtype: int64"
      ]
     },
     "execution_count": 24,
     "metadata": {},
     "output_type": "execute_result"
    }
   ],
   "source": [
    "finished[\"Year\"].value_counts().sort_values()"
   ]
  },
  {
   "cell_type": "code",
   "execution_count": 25,
   "metadata": {},
   "outputs": [
    {
     "data": {
      "text/plain": [
       "805620"
      ]
     },
     "execution_count": 25,
     "metadata": {},
     "output_type": "execute_result"
    }
   ],
   "source": [
    "finished[\"Year\"].value_counts().sum()"
   ]
  },
  {
   "cell_type": "markdown",
   "metadata": {},
   "source": [
    "transaksi berhasil berjumlah 805620 dari total 3 tahun 2009, 2010, dan 2011"
   ]
  },
  {
   "cell_type": "code",
   "execution_count": 26,
   "metadata": {},
   "outputs": [
    {
     "data": {
      "text/plain": [
       "<AxesSubplot:xlabel='Year', ylabel='count'>"
      ]
     },
     "execution_count": 26,
     "metadata": {},
     "output_type": "execute_result"
    },
    {
     "data": {
      "image/png": "[encoded data removed]",
      "text/plain": [
       "<Figure size 432x288 with 1 Axes>"
      ]
     },
     "metadata": {
      "needs_background": "light"
     },
     "output_type": "display_data"
    }
   ],
   "source": [
    "sns.countplot(x=\"Year\", data=finished)"
   ]
  },
  {
   "cell_type": "markdown",
   "metadata": {},
   "source": [
    "#### Transaction Canceled"
   ]
  },
  {
   "cell_type": "code",
   "execution_count": 27,
   "metadata": {},
   "outputs": [
    {
     "data": {
      "text/plain": [
       "2009    1015\n",
       "2011    8560\n",
       "2010    9919\n",
       "Name: Year, dtype: int64"
      ]
     },
     "execution_count": 27,
     "metadata": {},
     "output_type": "execute_result"
    }
   ],
   "source": [
    "cancel[\"Year\"].value_counts().sort_values()"
   ]
  },
  {
   "cell_type": "code",
   "execution_count": 28,
   "metadata": {},
   "outputs": [
    {
     "data": {
      "text/plain": [
       "19494"
      ]
     },
     "execution_count": 28,
     "metadata": {},
     "output_type": "execute_result"
    }
   ],
   "source": [
    "cancel[\"Year\"].value_counts().sum()"
   ]
  },
  {
   "cell_type": "markdown",
   "metadata": {},
   "source": [
    "transaksi yang dibatalkan berjumlah 19494 dari total 3 tahun 2009, 2010, dan 2011"
   ]
  },
  {
   "cell_type": "code",
   "execution_count": 29,
   "metadata": {},
   "outputs": [
    {
     "data": {
      "text/plain": [
       "<AxesSubplot:xlabel='Year', ylabel='count'>"
      ]
     },
     "execution_count": 29,
     "metadata": {},
     "output_type": "execute_result"
    },
    {
     "data": {
      "image/png": "[encoded data removed]",
      "text/plain": [
       "<Figure size 432x288 with 1 Axes>"
      ]
     },
     "metadata": {
      "needs_background": "light"
     },
     "output_type": "display_data"
    }
   ],
   "source": [
    "sns.countplot(x=\"Year\", data=cancel)"
   ]
  },
  {
   "cell_type": "markdown",
   "metadata": {},
   "source": [
    "### Cancellation Rate"
   ]
  },
  {
   "cell_type": "code",
   "execution_count": 30,
   "metadata": {},
   "outputs": [
    {
     "name": "stdout",
     "output_type": "stream",
     "text": [
      "Cancellation rate in 2009: 2.2441850181303615\n",
      "Cancellation rate in 2010: 1.8975960085247383\n",
      "Cancellation rate in 2011: 1.7139573392814595\n"
     ]
    }
   ],
   "source": [
    "cancellation_rate_2009 = (cancel[cancel[\"Year\"] == 2009].shape[0] / df[df['Year'] == 2009].shape[0])*100\n",
    "cancellation_rate_2010 = (cancel[cancel[\"Year\"] == 2010].shape[0] / df[df['Year'] == 2010].shape[0])*100\n",
    "cancellation_rate_2011 = (cancel[cancel[\"Year\"] == 2011].shape[0] / df[df['Year'] == 2011].shape[0])*100\n",
    "\n",
    "print('Cancellation rate in 2009:', cancellation_rate_2009)\n",
    "print('Cancellation rate in 2010:', cancellation_rate_2010)\n",
    "print('Cancellation rate in 2011:', cancellation_rate_2011)"
   ]
  },
  {
   "cell_type": "markdown",
   "metadata": {},
   "source": [
    "### Interpretasi"
   ]
  },
  {
   "cell_type": "markdown",
   "metadata": {},
   "source": [
    "rasio pembatalan mengalami penurunan dari tahun ketahun yang dilihat dari rasio pada tahun 2009 sebesar 2.2% dan 2010 mengalami penurunan sebesar 15% sehingga menjadi 1.9% dan pada tahun 2011 mengalami penurunan sebesar 12% sehingga menjadi 1.7%"
   ]
  }
 ],
 "metadata": {
  "interpreter": {
   "hash": "2469a70536e4d2335a2ea8907942d0699c37342a371ac185bdb5b0aa6f073890"
  },
  "kernelspec": {
   "display_name": "Python 3.10.1 64-bit",
   "language": "python",
   "name": "python3"
  },
  "language_info": {
   "codemirror_mode": {
    "name": "ipython",
    "version": 3
   },
   "file_extension": ".py",
   "mimetype": "text/x-python",
   "name": "python",
   "nbconvert_exporter": "python",
   "pygments_lexer": "ipython3",
   "version": "3.10.1"
  },
  "orig_nbformat": 4
 },
 "nbformat": 4,
 "nbformat_minor": 2
}
